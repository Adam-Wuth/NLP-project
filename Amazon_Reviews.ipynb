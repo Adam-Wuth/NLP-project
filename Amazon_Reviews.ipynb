{
 "cells": [
  {
   "cell_type": "markdown",
   "id": "c628a466-ecbf-46fb-94c9-dae7edb79f48",
   "metadata": {},
   "source": [
    "# NLP Project, Classification of Amazon Reviews and Key Phrases\n",
    "#### CSCI 3832 Natural Language Processing\n",
    "Members: Adam Wuth,"
   ]
  },
  {
   "cell_type": "code",
   "execution_count": null,
   "id": "af68a2c9-d3bf-46d4-96ca-3b290fc42b78",
   "metadata": {},
   "outputs": [],
   "source": [
    "import os, random, sys, copy\n",
    "import torch, torch.nn as nn, numpy as np\n",
    "from tqdm.notebook import tqdm\n",
    "from torch.nn.utils.rnn import pack_padded_sequence, pad_packed_sequence\n",
    "from nltk.tokenize import word_tokenize"
   ]
  },
  {
   "cell_type": "code",
   "execution_count": null,
   "id": "07452ee5-c85e-47d9-8669-72b8ce6fca49",
   "metadata": {},
   "outputs": [],
   "source": []
  }
 ],
 "metadata": {
  "kernelspec": {
   "display_name": "Python (mynlp)",
   "language": "python",
   "name": "mynlp"
  },
  "language_info": {
   "codemirror_mode": {
    "name": "ipython",
    "version": 3
   },
   "file_extension": ".py",
   "mimetype": "text/x-python",
   "name": "python",
   "nbconvert_exporter": "python",
   "pygments_lexer": "ipython3",
   "version": "3.12.9"
  }
 },
 "nbformat": 4,
 "nbformat_minor": 5
}
