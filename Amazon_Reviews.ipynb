{
 "cells": [
  {
   "cell_type": "markdown",
   "id": "c628a466-ecbf-46fb-94c9-dae7edb79f48",
   "metadata": {},
   "source": [
    "# NLP Project, Classification of Amazon Reviews and Key Phrases\n",
    "#### CSCI 3832 Natural Language Processing\n",
    "Members: Adam Wuth, Benjamin Kohav, Noah Vilas, Aiden Devine, Evan Zachary"
   ]
  },
  {
   "cell_type": "markdown",
   "id": "dde5fb9f-e2fe-4945-82aa-f19f9ea91c9d",
   "metadata": {},
   "source": [
    "### Requirements"
   ]
  },
  {
   "cell_type": "code",
   "execution_count": 1,
   "id": "af68a2c9-d3bf-46d4-96ca-3b290fc42b78",
   "metadata": {},
   "outputs": [],
   "source": [
    "import os, random, sys, copy\n",
    "import torch, torch.nn as nn, numpy as np\n",
    "from tqdm.notebook import tqdm\n",
    "from torch.nn.utils.rnn import pack_padded_sequence, pad_packed_sequence\n",
    "from nltk.tokenize import word_tokenize\n",
    "from datasets import load_dataset, concatenate_datasets, load_from_disk\n",
    "from datetime import datetime"
   ]
  },
  {
   "cell_type": "markdown",
   "id": "c120539f-c174-4e92-8749-d2a4c5ac5ed0",
   "metadata": {},
   "source": [
    "### Load in the data set\n",
    "The dataset is split into categories, but we wanted all categories from 2020 onwards. This code block will take forever to run, only run it the first time to get the dataset. "
   ]
  },
  {
   "cell_type": "code",
   "execution_count": 19,
   "id": "f4fa836d-c97d-4466-ad7a-777f67274c46",
   "metadata": {},
   "outputs": [
    {
     "name": "stdout",
     "output_type": "stream",
     "text": [
      "Loading category: All_Beauty\n"
     ]
    },
    {
     "data": {
      "application/vnd.jupyter.widget-view+json": {
       "model_id": "c1920a26ab0c4e6f8a0b708b176c5af5",
       "version_major": 2,
       "version_minor": 0
      },
      "text/plain": [
       "Filter:   0%|          | 0/150000 [00:00<?, ? examples/s]"
      ]
     },
     "metadata": {},
     "output_type": "display_data"
    },
    {
     "name": "stdout",
     "output_type": "stream",
     "text": [
      "Loading category: Amazon_Fashion\n"
     ]
    },
    {
     "data": {
      "application/vnd.jupyter.widget-view+json": {
       "model_id": "5ee27ef9d0a34525ade0fa213c17b72f",
       "version_major": 2,
       "version_minor": 0
      },
      "text/plain": [
       "Filter:   0%|          | 0/150000 [00:00<?, ? examples/s]"
      ]
     },
     "metadata": {},
     "output_type": "display_data"
    },
    {
     "name": "stdout",
     "output_type": "stream",
     "text": [
      "Loading category: Appliances\n"
     ]
    },
    {
     "data": {
      "application/vnd.jupyter.widget-view+json": {
       "model_id": "4e7e19eda7e1475faa8dbc835389c3bb",
       "version_major": 2,
       "version_minor": 0
      },
      "text/plain": [
       "Filter:   0%|          | 0/150000 [00:00<?, ? examples/s]"
      ]
     },
     "metadata": {},
     "output_type": "display_data"
    },
    {
     "name": "stdout",
     "output_type": "stream",
     "text": [
      "Loading category: Arts_Crafts_and_Sewing\n"
     ]
    },
    {
     "data": {
      "application/vnd.jupyter.widget-view+json": {
       "model_id": "ae7e91ebf3034b7aa8568c791112abf5",
       "version_major": 2,
       "version_minor": 0
      },
      "text/plain": [
       "Filter:   0%|          | 0/150000 [00:00<?, ? examples/s]"
      ]
     },
     "metadata": {},
     "output_type": "display_data"
    },
    {
     "name": "stdout",
     "output_type": "stream",
     "text": [
      "Loading category: Automotive\n"
     ]
    },
    {
     "data": {
      "application/vnd.jupyter.widget-view+json": {
       "model_id": "3e12450425a14176bc20695965597b80",
       "version_major": 2,
       "version_minor": 0
      },
      "text/plain": [
       "Filter:   0%|          | 0/150000 [00:00<?, ? examples/s]"
      ]
     },
     "metadata": {},
     "output_type": "display_data"
    },
    {
     "name": "stdout",
     "output_type": "stream",
     "text": [
      "Loading category: Baby_Products\n"
     ]
    },
    {
     "data": {
      "application/vnd.jupyter.widget-view+json": {
       "model_id": "1c1643122bb249c4b75eaa1a025df8fc",
       "version_major": 2,
       "version_minor": 0
      },
      "text/plain": [
       "Filter:   0%|          | 0/150000 [00:00<?, ? examples/s]"
      ]
     },
     "metadata": {},
     "output_type": "display_data"
    },
    {
     "name": "stdout",
     "output_type": "stream",
     "text": [
      "Loading category: Beauty_and_Personal_Care\n"
     ]
    },
    {
     "data": {
      "application/vnd.jupyter.widget-view+json": {
       "model_id": "d02b5c79b5c04e479eae6499fa685246",
       "version_major": 2,
       "version_minor": 0
      },
      "text/plain": [
       "Filter:   0%|          | 0/150000 [00:00<?, ? examples/s]"
      ]
     },
     "metadata": {},
     "output_type": "display_data"
    },
    {
     "name": "stdout",
     "output_type": "stream",
     "text": [
      "Loading category: Books\n"
     ]
    },
    {
     "data": {
      "application/vnd.jupyter.widget-view+json": {
       "model_id": "d76d8898bff2406e848ca37c347e3495",
       "version_major": 2,
       "version_minor": 0
      },
      "text/plain": [
       "Filter:   0%|          | 0/150000 [00:00<?, ? examples/s]"
      ]
     },
     "metadata": {},
     "output_type": "display_data"
    },
    {
     "name": "stdout",
     "output_type": "stream",
     "text": [
      "Loading category: CDs_and_Vinyl\n"
     ]
    },
    {
     "data": {
      "application/vnd.jupyter.widget-view+json": {
       "model_id": "92c162e7a7a64055ac2fc041c50bb387",
       "version_major": 2,
       "version_minor": 0
      },
      "text/plain": [
       "Filter:   0%|          | 0/150000 [00:00<?, ? examples/s]"
      ]
     },
     "metadata": {},
     "output_type": "display_data"
    },
    {
     "name": "stdout",
     "output_type": "stream",
     "text": [
      "Loading category: Cell_Phones_and_Accessories\n"
     ]
    },
    {
     "data": {
      "application/vnd.jupyter.widget-view+json": {
       "model_id": "6f22a35bce484099896ac29ef9a51e40",
       "version_major": 2,
       "version_minor": 0
      },
      "text/plain": [
       "Filter:   0%|          | 0/150000 [00:00<?, ? examples/s]"
      ]
     },
     "metadata": {},
     "output_type": "display_data"
    },
    {
     "name": "stdout",
     "output_type": "stream",
     "text": [
      "Loading category: Clothing_Shoes_and_Jewelry\n"
     ]
    },
    {
     "data": {
      "application/vnd.jupyter.widget-view+json": {
       "model_id": "c32e06d71ca94973ad844703922f928f",
       "version_major": 2,
       "version_minor": 0
      },
      "text/plain": [
       "Filter:   0%|          | 0/150000 [00:00<?, ? examples/s]"
      ]
     },
     "metadata": {},
     "output_type": "display_data"
    },
    {
     "name": "stdout",
     "output_type": "stream",
     "text": [
      "Loading category: Digital_Music\n"
     ]
    },
    {
     "data": {
      "application/vnd.jupyter.widget-view+json": {
       "model_id": "d993d1cac0004da09a8d3ea3128433d8",
       "version_major": 2,
       "version_minor": 0
      },
      "text/plain": [
       "Filter:   0%|          | 0/130434 [00:00<?, ? examples/s]"
      ]
     },
     "metadata": {},
     "output_type": "display_data"
    },
    {
     "name": "stdout",
     "output_type": "stream",
     "text": [
      "Loading category: Electronics\n"
     ]
    },
    {
     "data": {
      "application/vnd.jupyter.widget-view+json": {
       "model_id": "a9564901cd024c6eae913b8d4697718f",
       "version_major": 2,
       "version_minor": 0
      },
      "text/plain": [
       "Filter:   0%|          | 0/150000 [00:00<?, ? examples/s]"
      ]
     },
     "metadata": {},
     "output_type": "display_data"
    },
    {
     "name": "stdout",
     "output_type": "stream",
     "text": [
      "Loading category: Gift_Cards\n"
     ]
    },
    {
     "data": {
      "application/vnd.jupyter.widget-view+json": {
       "model_id": "41c0e19183b54bd18fc18d03c970552e",
       "version_major": 2,
       "version_minor": 0
      },
      "text/plain": [
       "Filter:   0%|          | 0/150000 [00:00<?, ? examples/s]"
      ]
     },
     "metadata": {},
     "output_type": "display_data"
    },
    {
     "name": "stdout",
     "output_type": "stream",
     "text": [
      "Loading category: Grocery_and_Gourmet_Food\n"
     ]
    },
    {
     "data": {
      "application/vnd.jupyter.widget-view+json": {
       "model_id": "29975618aa334542aef4caf420e1c23d",
       "version_major": 2,
       "version_minor": 0
      },
      "text/plain": [
       "Filter:   0%|          | 0/150000 [00:00<?, ? examples/s]"
      ]
     },
     "metadata": {},
     "output_type": "display_data"
    },
    {
     "name": "stdout",
     "output_type": "stream",
     "text": [
      "Loading category: Handmade_Products\n"
     ]
    },
    {
     "data": {
      "application/vnd.jupyter.widget-view+json": {
       "model_id": "fb46940196284873acaaec6abf691e52",
       "version_major": 2,
       "version_minor": 0
      },
      "text/plain": [
       "Filter:   0%|          | 0/150000 [00:00<?, ? examples/s]"
      ]
     },
     "metadata": {},
     "output_type": "display_data"
    },
    {
     "name": "stdout",
     "output_type": "stream",
     "text": [
      "Loading category: Health_and_Household\n"
     ]
    },
    {
     "data": {
      "application/vnd.jupyter.widget-view+json": {
       "model_id": "ae1479d1970d40eab7eb5b6cbf4d74b3",
       "version_major": 2,
       "version_minor": 0
      },
      "text/plain": [
       "Filter:   0%|          | 0/150000 [00:00<?, ? examples/s]"
      ]
     },
     "metadata": {},
     "output_type": "display_data"
    },
    {
     "name": "stdout",
     "output_type": "stream",
     "text": [
      "Loading category: Health_and_Personal_Care\n"
     ]
    },
    {
     "data": {
      "application/vnd.jupyter.widget-view+json": {
       "model_id": "f4f5bb504e8c42bb9917fec47494b129",
       "version_major": 2,
       "version_minor": 0
      },
      "text/plain": [
       "Filter:   0%|          | 0/150000 [00:00<?, ? examples/s]"
      ]
     },
     "metadata": {},
     "output_type": "display_data"
    },
    {
     "name": "stdout",
     "output_type": "stream",
     "text": [
      "Loading category: Home_and_Kitchen\n"
     ]
    },
    {
     "data": {
      "application/vnd.jupyter.widget-view+json": {
       "model_id": "1f02f596bfa4411788e0bd9c07d3adae",
       "version_major": 2,
       "version_minor": 0
      },
      "text/plain": [
       "Filter:   0%|          | 0/150000 [00:00<?, ? examples/s]"
      ]
     },
     "metadata": {},
     "output_type": "display_data"
    },
    {
     "name": "stdout",
     "output_type": "stream",
     "text": [
      "Loading category: Industrial_and_Scientific\n"
     ]
    },
    {
     "data": {
      "application/vnd.jupyter.widget-view+json": {
       "model_id": "ac0330e39c204676be415653e689709d",
       "version_major": 2,
       "version_minor": 0
      },
      "text/plain": [
       "Filter:   0%|          | 0/150000 [00:00<?, ? examples/s]"
      ]
     },
     "metadata": {},
     "output_type": "display_data"
    },
    {
     "name": "stdout",
     "output_type": "stream",
     "text": [
      "Loading category: Kindle_Store\n"
     ]
    },
    {
     "data": {
      "application/vnd.jupyter.widget-view+json": {
       "model_id": "fb7df3b7ec1742089e0d4620dced4935",
       "version_major": 2,
       "version_minor": 0
      },
      "text/plain": [
       "Filter:   0%|          | 0/150000 [00:00<?, ? examples/s]"
      ]
     },
     "metadata": {},
     "output_type": "display_data"
    },
    {
     "name": "stdout",
     "output_type": "stream",
     "text": [
      "Loading category: Magazine_Subscriptions\n"
     ]
    },
    {
     "data": {
      "application/vnd.jupyter.widget-view+json": {
       "model_id": "0c175a1bc848491d8317949285d5c88f",
       "version_major": 2,
       "version_minor": 0
      },
      "text/plain": [
       "Filter:   0%|          | 0/71497 [00:00<?, ? examples/s]"
      ]
     },
     "metadata": {},
     "output_type": "display_data"
    },
    {
     "name": "stdout",
     "output_type": "stream",
     "text": [
      "Loading category: Movies_and_TV\n"
     ]
    },
    {
     "data": {
      "application/vnd.jupyter.widget-view+json": {
       "model_id": "18be6255cdfa4f8eaec8f46d7191a6c8",
       "version_major": 2,
       "version_minor": 0
      },
      "text/plain": [
       "Filter:   0%|          | 0/150000 [00:00<?, ? examples/s]"
      ]
     },
     "metadata": {},
     "output_type": "display_data"
    },
    {
     "name": "stdout",
     "output_type": "stream",
     "text": [
      "Loading category: Musical_Instruments\n"
     ]
    },
    {
     "data": {
      "application/vnd.jupyter.widget-view+json": {
       "model_id": "5394ba0dd77a440c9ec08906a4a25545",
       "version_major": 2,
       "version_minor": 0
      },
      "text/plain": [
       "Filter:   0%|          | 0/150000 [00:00<?, ? examples/s]"
      ]
     },
     "metadata": {},
     "output_type": "display_data"
    },
    {
     "name": "stdout",
     "output_type": "stream",
     "text": [
      "Loading category: Office_Products\n"
     ]
    },
    {
     "data": {
      "application/vnd.jupyter.widget-view+json": {
       "model_id": "3c4da5c04a754cfa9f3be59c84c0991a",
       "version_major": 2,
       "version_minor": 0
      },
      "text/plain": [
       "Filter:   0%|          | 0/150000 [00:00<?, ? examples/s]"
      ]
     },
     "metadata": {},
     "output_type": "display_data"
    },
    {
     "name": "stdout",
     "output_type": "stream",
     "text": [
      "Loading category: Patio_Lawn_and_Garden\n"
     ]
    },
    {
     "data": {
      "application/vnd.jupyter.widget-view+json": {
       "model_id": "a63daedc11df4a34a74240ade584993f",
       "version_major": 2,
       "version_minor": 0
      },
      "text/plain": [
       "Filter:   0%|          | 0/150000 [00:00<?, ? examples/s]"
      ]
     },
     "metadata": {},
     "output_type": "display_data"
    },
    {
     "name": "stdout",
     "output_type": "stream",
     "text": [
      "Loading category: Pet_Supplies\n"
     ]
    },
    {
     "data": {
      "application/vnd.jupyter.widget-view+json": {
       "model_id": "412d1a7010404576ab0c373b9c42ac2a",
       "version_major": 2,
       "version_minor": 0
      },
      "text/plain": [
       "Filter:   0%|          | 0/150000 [00:00<?, ? examples/s]"
      ]
     },
     "metadata": {},
     "output_type": "display_data"
    },
    {
     "name": "stdout",
     "output_type": "stream",
     "text": [
      "Loading category: Software\n"
     ]
    },
    {
     "data": {
      "application/vnd.jupyter.widget-view+json": {
       "model_id": "8b97a9cccb764d4babc8deb341b9ec99",
       "version_major": 2,
       "version_minor": 0
      },
      "text/plain": [
       "Filter:   0%|          | 0/150000 [00:00<?, ? examples/s]"
      ]
     },
     "metadata": {},
     "output_type": "display_data"
    },
    {
     "name": "stdout",
     "output_type": "stream",
     "text": [
      "Loading category: Sports_and_Outdoors\n"
     ]
    },
    {
     "data": {
      "application/vnd.jupyter.widget-view+json": {
       "model_id": "441be48cb4c64a19b35618e746ea091a",
       "version_major": 2,
       "version_minor": 0
      },
      "text/plain": [
       "Filter:   0%|          | 0/150000 [00:00<?, ? examples/s]"
      ]
     },
     "metadata": {},
     "output_type": "display_data"
    },
    {
     "name": "stdout",
     "output_type": "stream",
     "text": [
      "Loading category: Subscription_Boxes\n"
     ]
    },
    {
     "data": {
      "application/vnd.jupyter.widget-view+json": {
       "model_id": "94b93d6085a14902bf05de1b6bea1d31",
       "version_major": 2,
       "version_minor": 0
      },
      "text/plain": [
       "Filter:   0%|          | 0/16216 [00:00<?, ? examples/s]"
      ]
     },
     "metadata": {},
     "output_type": "display_data"
    },
    {
     "name": "stdout",
     "output_type": "stream",
     "text": [
      "Loading category: Tools_and_Home_Improvement\n"
     ]
    },
    {
     "data": {
      "application/vnd.jupyter.widget-view+json": {
       "model_id": "e8dd6ee913714cf4bb0f054181411eb2",
       "version_major": 2,
       "version_minor": 0
      },
      "text/plain": [
       "Filter:   0%|          | 0/150000 [00:00<?, ? examples/s]"
      ]
     },
     "metadata": {},
     "output_type": "display_data"
    },
    {
     "name": "stdout",
     "output_type": "stream",
     "text": [
      "Loading category: Toys_and_Games\n"
     ]
    },
    {
     "data": {
      "application/vnd.jupyter.widget-view+json": {
       "model_id": "f41a4e7a95834e3abf44d6c2ffaf83cd",
       "version_major": 2,
       "version_minor": 0
      },
      "text/plain": [
       "Filter:   0%|          | 0/150000 [00:00<?, ? examples/s]"
      ]
     },
     "metadata": {},
     "output_type": "display_data"
    },
    {
     "name": "stdout",
     "output_type": "stream",
     "text": [
      "Loading category: Video_Games\n"
     ]
    },
    {
     "data": {
      "application/vnd.jupyter.widget-view+json": {
       "model_id": "03ca9105e236494cbe51a3772940d845",
       "version_major": 2,
       "version_minor": 0
      },
      "text/plain": [
       "Filter:   0%|          | 0/150000 [00:00<?, ? examples/s]"
      ]
     },
     "metadata": {},
     "output_type": "display_data"
    },
    {
     "name": "stdout",
     "output_type": "stream",
     "text": [
      "Loading category: Unknown\n"
     ]
    },
    {
     "data": {
      "application/vnd.jupyter.widget-view+json": {
       "model_id": "9f798df528324b36be78630301a3f2ec",
       "version_major": 2,
       "version_minor": 0
      },
      "text/plain": [
       "Filter:   0%|          | 0/150000 [00:00<?, ? examples/s]"
      ]
     },
     "metadata": {},
     "output_type": "display_data"
    },
    {
     "name": "stdout",
     "output_type": "stream",
     "text": [
      "Total reviews loaded: 120088\n"
     ]
    },
    {
     "data": {
      "application/vnd.jupyter.widget-view+json": {
       "model_id": "141e67cb1b0d480ca7e084adcb2f9cd7",
       "version_major": 2,
       "version_minor": 0
      },
      "text/plain": [
       "Saving the dataset (0/1 shards):   0%|          | 0/120088 [00:00<?, ? examples/s]"
      ]
     },
     "metadata": {},
     "output_type": "display_data"
    }
   ],
   "source": [
    "#The dataset is split into categories\n",
    "\n",
    "categories = [\n",
    "    \"All_Beauty\",\n",
    "    \"Amazon_Fashion\",\n",
    "    \"Appliances\",\n",
    "    \"Arts_Crafts_and_Sewing\",\n",
    "    \"Automotive\",\n",
    "    \"Baby_Products\",\n",
    "    \"Beauty_and_Personal_Care\",\n",
    "    \"Books\",\n",
    "    \"CDs_and_Vinyl\",\n",
    "    \"Cell_Phones_and_Accessories\",\n",
    "    \"Clothing_Shoes_and_Jewelry\",\n",
    "    \"Digital_Music\",\n",
    "    \"Electronics\",\n",
    "    \"Gift_Cards\",\n",
    "    \"Grocery_and_Gourmet_Food\",\n",
    "    \"Handmade_Products\",\n",
    "    \"Health_and_Household\",\n",
    "    \"Health_and_Personal_Care\",\n",
    "    \"Home_and_Kitchen\",\n",
    "    \"Industrial_and_Scientific\",\n",
    "    \"Kindle_Store\",\n",
    "    \"Magazine_Subscriptions\",\n",
    "    \"Movies_and_TV\",\n",
    "    \"Musical_Instruments\",\n",
    "    \"Office_Products\",\n",
    "    \"Patio_Lawn_and_Garden\",\n",
    "    \"Pet_Supplies\",\n",
    "    \"Software\",\n",
    "    \"Sports_and_Outdoors\",\n",
    "    \"Subscription_Boxes\",\n",
    "    \"Tools_and_Home_Improvement\",\n",
    "    \"Toys_and_Games\",\n",
    "    \"Video_Games\",\n",
    "    \"Unknown\"\n",
    "]\n",
    "\n",
    "#to get reviews from 2023 onwards 2020 onwards was millions of reviews and was taking\n",
    "#over an hour just to load the data\n",
    "start_timestamp = int(datetime(2023, 1, 1).timestamp() * 1000)\n",
    "\n",
    "#to store all datasets\n",
    "allcats = []\n",
    "\n",
    "for cat in categories:\n",
    "    print(f\"Loading category: {cat}\")\n",
    "    dataset = load_dataset(\"McAuley-Lab/Amazon-Reviews-2023\", f\"raw_review_{cat}\", split=\"full[:150000]\",  trust_remote_code=True)\n",
    "    #dataset = load_dataset(\"McAuley-Lab/Amazon-Reviews-2023\", f\"raw_review_{cat}\", split=\"full[:1%]\",  trust_remote_code=True)\n",
    "   #dataset = load_dataset(\"McAuley-Lab/Amazon-Reviews-2023\", cat, split=\"full\",  trust_remote_code=True) formatting issues\n",
    "    #get the 2023 onwards and add to data\n",
    "    filtered_dataset = dataset.filter(lambda x: x['timestamp'] >= start_timestamp)\n",
    "    #allcats.append(dataset)\n",
    "    allcats.append(filtered_dataset)\n",
    "#make one final dataset    \n",
    "reviews = concatenate_datasets(allcats)\n",
    "\n",
    "print(f\"Total reviews loaded: {len(reviews)}\")\n",
    "\n",
    "reviews.save_to_disk(\"filetred_amazon_reviews\")\n"
   ]
  },
  {
   "cell_type": "markdown",
   "id": "5cfff221-5127-4716-ae61-7d96e01082b4",
   "metadata": {},
   "source": [
    "If you have run that already, reviews was saved(should be in the working directory)so you can just do the next code block instead"
   ]
  },
  {
   "cell_type": "code",
   "execution_count": 21,
   "id": "c08d7f81-c990-4b7f-b566-4bee0cd6b8b0",
   "metadata": {},
   "outputs": [
    {
     "name": "stdout",
     "output_type": "stream",
     "text": [
      "120088\n",
      "{'rating': 1.0, 'title': 'halo hair extensions', 'text': \"This halo hair extension is simply put, garbage.  Now, you get what you pay for.  And this is a very cheap version.  The faux hair is very shiny and looks literally like bad barbie hair.  It looks WAY better in the photos than in real life.  The color is horrific, in my opinion of course.  The streaks are like paint strips.  And all of that would be one thing - but the worst is that the hair completely fell out!  I had hand fulls of hair strands just trying to put the halo on!  And you might think - well, maybe a little loss is to be expected?  Except this was handfuls and handfuls.  I literally dropped the whole thing right into the trash.  I would say this one is a pass for hair loss alone.  Having said all of this, I never hesitate to update my reviews should new info seem useful. All of my reviews reflect my honest, personal experience with the reviewed item - your experience may be different. I am not influenced by any outside source. I receive/accept NO free products or discounts that are not available to all shoppers- ever. For some reason our shopper ranks are no longer visible - so, to give you a little more info about me, I am a top 50 reviewer (#30 the highest rank achieved). Those numbers used to fluctuate over time - up and down but I noticed that they stopped updating regularly - perhaps to phase them out. It's a shame because it did help you see who has been around the longest and who is a trustworthy reviewer.\\xa0 I've been doing reviews for over 25 years with Amazon - over 6,000 reviews posted, those reviews have been viewed well over 50,000 times, including well over 25,000 likes. Bottom line, I pay for all my stuff, just like you do.\", 'images': [], 'asin': 'B0BFR5WF1R', 'parent_asin': 'B0BFR5WF1R', 'user_id': 'AFZUK3MTBIBEDQOPAK3OATUOUKLA', 'timestamp': 1675826333052, 'helpful_vote': 4, 'verified_purchase': True}\n",
      "{'rating': 1.0, 'title': 'Crap', 'text': \"These look and fit BAD.<br />Fake looking.<br />Not dentures fake- Halloween fake.<br />Plus they don't conform in your mouth. They are bulky. They require major adjustments with power tools to fit properly. These are a joke. If your getting them for a prank or to play dress up, I guess they’d do.<br />If you need a decent temporary smile that looks and feels good, go with Imako.\", 'images': [], 'asin': 'B0BL3HSBZB', 'parent_asin': 'B0BL3HSBZB', 'user_id': 'AF5PN3FPG5Z66P7Z7UWL56D6CGMA', 'timestamp': 1674411398983, 'helpful_vote': 0, 'verified_purchase': True}\n",
      "['rating', 'title', 'text', 'images', 'asin', 'parent_asin', 'user_id', 'timestamp', 'helpful_vote', 'verified_purchase']\n"
     ]
    }
   ],
   "source": [
    "reviews = load_from_disk(\"filetred_amazon_reviews\")\n",
    "print(len(reviews))\n",
    "print(reviews[0])\n",
    "print(reviews[1])\n",
    "print(reviews.column_names)"
   ]
  },
  {
   "cell_type": "markdown",
   "id": "ffa7db25-207c-4d3b-aa91-d315ef26d63a",
   "metadata": {},
   "source": [
    "### Load in the Glove Embeddings"
   ]
  },
  {
   "cell_type": "code",
   "execution_count": 6,
   "id": "04cb23a5-a488-47ec-b8d0-fa8233edb8f2",
   "metadata": {},
   "outputs": [
    {
     "name": "stdout",
     "output_type": "stream",
     "text": [
      "Loaded 400000 words from glove\n"
     ]
    }
   ],
   "source": [
    "glove_file = '../glove.6B.50d.txt' # modify to appropriate path for your file system\n",
    "\n",
    "embeddings_dict = {}\n",
    "\n",
    "with open(glove_file, 'r', encoding='utf8') as f:\n",
    "    for i, line in enumerate(f):\n",
    "        line = line.strip().split(' ')\n",
    "        word = line[0]\n",
    "        embed = np.asarray(line[1:], \"float\")\n",
    "\n",
    "        embeddings_dict[word] = embed\n",
    "\n",
    "\n",
    "print('Loaded {} words from glove'.format(len(embeddings_dict)))\n",
    "\n",
    "low = -1.0 / 3\n",
    "high = 1.0 / 3\n",
    "embedding_matrix = np.random.uniform(low=low, high=high, size=(len(embeddings_dict)+1, 50))\n",
    "\n",
    "word2id = {}\n",
    "for i, word in enumerate(embeddings_dict.keys(), 1):\n",
    "\n",
    "    word2id[word] = i                                \n",
    "    embedding_matrix[i] = embeddings_dict[word]      \n",
    "\n",
    "word2id['<pad>'] = 0"
   ]
  },
  {
   "cell_type": "markdown",
   "id": "3285fb2a-1724-4b04-ad9f-3f94f49c3416",
   "metadata": {},
   "source": [
    "### Set up train and validation datasets"
   ]
  },
  {
   "cell_type": "code",
   "execution_count": 30,
   "id": "07452ee5-c85e-47d9-8669-72b8ce6fca49",
   "metadata": {},
   "outputs": [],
   "source": [
    "#modified from the HW_3 \n",
    "class RNNMovieReviewDataset(torch.utils.data.Dataset):\n",
    "    def __init__(self, hf_dataset=None, word2id=None, finalized_data=None, data_limit=250, max_length=128):\n",
    "        \"\"\"\n",
    "        :param hf_dataset: A Hugging Face Dataset object (preloaded and filtered)\n",
    "        :param word2id: The GloVe word2id dictionary\n",
    "        :param finalized_data: Used to create validation set\n",
    "        :param data_limit: Max number of examples to use\n",
    "        :param max_length: Max sequence length\n",
    "        \"\"\"\n",
    "        self.data_limit = data_limit\n",
    "        self.max_length = max_length\n",
    "        self.word2id = word2id\n",
    "\n",
    "        if finalized_data:\n",
    "            self.data = finalized_data\n",
    "        else:\n",
    "            examples = []\n",
    "            labels = []\n",
    "\n",
    "            for i, example in enumerate(hf_dataset):\n",
    "                if i >= self.data_limit:\n",
    "                    break\n",
    "                examples.append(example[\"text\"])\n",
    "                labels.append(int(example[\"rating\"]) - 1)  # 1–5 stars → 0–4\n",
    "\n",
    "            tokenized = self.tokenize(examples)\n",
    "            self.data = [(ids, length, label) for (ids, length), label in zip(tokenized, labels)]\n",
    "            random.seed(42)\n",
    "            random.shuffle(self.data)\n",
    "\n",
    "    def tokenize(self, examples):\n",
    "        example_ids = []\n",
    "        misses = 0\n",
    "        total = 0\n",
    "        for example in tqdm(examples):\n",
    "            tokens = word_tokenize(example)\n",
    "            ids = []\n",
    "            for tok in tokens:\n",
    "                if tok in self.word2id:\n",
    "                    ids.append(self.word2id[tok])\n",
    "                else:\n",
    "                    misses += 1\n",
    "                    ids.append(self.word2id.get('unk', 0))\n",
    "                total += 1\n",
    "\n",
    "            if len(ids) >= self.max_length:\n",
    "                ids = ids[:self.max_length]\n",
    "                length = self.max_length\n",
    "            else:\n",
    "                length = len(ids)\n",
    "                ids += [self.word2id['<pad>']] * (self.max_length - len(ids))\n",
    "\n",
    "            example_ids.append((torch.tensor(ids), length))\n",
    "\n",
    "        print(f'Missed {misses} out of {total} words -- {misses/total:.2%}')\n",
    "        return example_ids\n",
    "\n",
    "    def generate_validation_split(self, ratio=0.8):\n",
    "        split_idx = int(ratio * len(self.data))\n",
    "        val_split = self.data[split_idx:]\n",
    "        self.data = self.data[:split_idx]\n",
    "        return val_split\n",
    "\n",
    "    def __getitem__(self, index):\n",
    "        return self.data[index]  # returns (input_ids, length, label)\n",
    "\n",
    "    def __len__(self):\n",
    "        return len(self.data)\n"
   ]
  },
  {
   "cell_type": "code",
   "execution_count": 31,
   "id": "b77ae593-a49e-4488-8d8f-4f1e2125803c",
   "metadata": {},
   "outputs": [
    {
     "data": {
      "application/vnd.jupyter.widget-view+json": {
       "model_id": "2f9e64625605434f8515b726a3620154",
       "version_major": 2,
       "version_minor": 0
      },
      "text/plain": [
       "  0%|          | 0/100000 [00:00<?, ?it/s]"
      ]
     },
     "metadata": {},
     "output_type": "display_data"
    },
    {
     "name": "stdout",
     "output_type": "stream",
     "text": [
      "Missed 656201 out of 5940281 words -- 11.05%\n",
      "Loaded 80000 train examples\n",
      "Loaded 20000 validation examples\n",
      "(tensor([201535,     33,  14034,      6,     82,    170,   4232,      4,  41522,\n",
      "             5,  24505,      8,   7093,     47,   2685,     82,    304,     35,\n",
      "          6175,      7,   4563,  12167,    406,  42965,    109,     40,    264,\n",
      "             7,      8,  28287,   4770,     37,      8,   1931,      2,     43,\n",
      "        201535,    473,     37,   1086,    198,     54,    770,  12608,      3,\n",
      "        201535,   1251,     40,    268,   3083,      3,      0,      0,      0,\n",
      "             0,      0,      0,      0,      0,      0,      0,      0,      0,\n",
      "             0,      0,      0,      0,      0,      0,      0,      0,      0,\n",
      "             0,      0,      0,      0,      0,      0,      0,      0,      0,\n",
      "             0,      0,      0,      0,      0,      0,      0,      0,      0,\n",
      "             0,      0,      0,      0,      0,      0,      0,      0,      0,\n",
      "             0,      0,      0,      0,      0,      0,      0,      0,      0,\n",
      "             0,      0,      0,      0,      0,      0,      0,      0,      0,\n",
      "             0,      0,      0,      0,      0,      0,      0,      0,      0,\n",
      "             0,      0]), 51, 4)\n"
     ]
    }
   ],
   "source": [
    "#also modified from hw3\n",
    "train_dataset = RNNMovieReviewDataset(hf_dataset=reviews, word2id=word2id, data_limit=100000)\n",
    "validation_examples = train_dataset.generate_validation_split()\n",
    "print('Loaded {} train examples'.format(len(train_dataset)))\n",
    "\n",
    "valid_dataset = RNNMovieReviewDataset(finalized_data=validation_examples, word2id=word2id)\n",
    "print('Loaded {} validation examples'.format(len(valid_dataset)))\n",
    "\n",
    "print(valid_dataset[0])  # (input_ids, length, label)"
   ]
  },
  {
   "cell_type": "code",
   "execution_count": 29,
   "id": "442cbf7c-2609-439d-8cd1-a4c757c2e8c3",
   "metadata": {},
   "outputs": [
    {
     "name": "stdout",
     "output_type": "stream",
     "text": [
      "True length: 21\n",
      "Non-padded input: tensor([201535,   5179,      2,   4346,   7047,      3, 201535,   3877,   4147,\n",
      "            38,    101,    182,      3, 201535,   1930,    315,   3877,     18,\n",
      "            49,   5159,      3])\n",
      "Label: 4\n"
     ]
    }
   ],
   "source": [
    "input_ids, length, label = valid_dataset[1]\n",
    "print(\"True length:\", length)\n",
    "print(\"Non-padded input:\", input_ids[:length])\n",
    "print(\"Label:\", label)\n"
   ]
  },
  {
   "cell_type": "code",
   "execution_count": null,
   "id": "8addb396-997d-4bbd-b7fc-3c35f8224998",
   "metadata": {},
   "outputs": [],
   "source": []
  }
 ],
 "metadata": {
  "kernelspec": {
   "display_name": "Python (mynlp)",
   "language": "python",
   "name": "mynlp"
  },
  "language_info": {
   "codemirror_mode": {
    "name": "ipython",
    "version": 3
   },
   "file_extension": ".py",
   "mimetype": "text/x-python",
   "name": "python",
   "nbconvert_exporter": "python",
   "pygments_lexer": "ipython3",
   "version": "3.12.9"
  }
 },
 "nbformat": 4,
 "nbformat_minor": 5
}
